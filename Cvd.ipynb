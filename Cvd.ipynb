{
  "nbformat": 4,
  "nbformat_minor": 0,
  "metadata": {
    "colab": {
      "provenance": []
    },
    "kernelspec": {
      "name": "python3",
      "display_name": "Python 3"
    },
    "language_info": {
      "name": "python"
    }
  },
  "cells": [
    {
      "cell_type": "code",
      "execution_count": null,
      "metadata": {
        "id": "PCSYSRQ-5sc1"
      },
      "outputs": [],
      "source": [
        "# Import necessary libraries\n",
        "import pandas as pd\n",
        "import numpy as np\n",
        "import matplotlib.pyplot as plt\n",
        "import seaborn as sns\n",
        "from sklearn.model_selection import train_test_split\n",
        "from sklearn.preprocessing import StandardScaler\n",
        "from sklearn.impute import KNNImputer\n",
        "from sklearn.metrics import accuracy_score, roc_auc_score, classification_report, confusion_matrix, roc_curve\n",
        "from sklearn.linear_model import LogisticRegression\n",
        "from sklearn.ensemble import RandomForestClassifier, GradientBoostingClassifier\n",
        "from sklearn.svm import SVC\n",
        "from sklearn.decomposition import PCA\n",
        "from sklearn.neural_network import MLPClassifier"
      ]
    },
    {
      "cell_type": "code",
      "source": [
        "# Load dataset\n",
        "framingham = pd.read_csv('/content/framingham.csv')\n",
        "print('Data shape:', framingham.shape)\n",
        "print(framingham.head())"
      ],
      "metadata": {
        "colab": {
          "base_uri": "https://localhost:8080/"
        },
        "id": "TWJDB4gE6IAY",
        "outputId": "6339aaef-ab9c-4aa9-d6d6-36750b8985f9"
      },
      "execution_count": null,
      "outputs": [
        {
          "output_type": "stream",
          "name": "stdout",
          "text": [
            "Data shape: (4240, 16)\n",
            "   male  age  education  currentSmoker  cigsPerDay  BPMeds  prevalentStroke  \\\n",
            "0     1   39        4.0              0         0.0     0.0                0   \n",
            "1     0   46        2.0              0         0.0     0.0                0   \n",
            "2     1   48        1.0              1        20.0     0.0                0   \n",
            "3     0   61        3.0              1        30.0     0.0                0   \n",
            "4     0   46        3.0              1        23.0     0.0                0   \n",
            "\n",
            "   prevalentHyp  diabetes  totChol  sysBP  diaBP    BMI  heartRate  glucose  \\\n",
            "0             0         0    195.0  106.0   70.0  26.97       80.0     77.0   \n",
            "1             0         0    250.0  121.0   81.0  28.73       95.0     76.0   \n",
            "2             0         0    245.0  127.5   80.0  25.34       75.0     70.0   \n",
            "3             1         0    225.0  150.0   95.0  28.58       65.0    103.0   \n",
            "4             0         0    285.0  130.0   84.0  23.10       85.0     85.0   \n",
            "\n",
            "   TenYearCHD  \n",
            "0           0  \n",
            "1           0  \n",
            "2           0  \n",
            "3           1  \n",
            "4           0  \n"
          ]
        }
      ]
    },
    {
      "cell_type": "code",
      "source": [
        "# Check missing values\n",
        "print('\\nMissing values per column:')\n",
        "print(framingham.isnull().sum())"
      ],
      "metadata": {
        "colab": {
          "base_uri": "https://localhost:8080/"
        },
        "id": "IeRgSTyd6MtR",
        "outputId": "c633b52c-5f97-4c93-88d2-aaa74968ef92"
      },
      "execution_count": null,
      "outputs": [
        {
          "output_type": "stream",
          "name": "stdout",
          "text": [
            "\n",
            "Missing values per column:\n",
            "male                 0\n",
            "age                  0\n",
            "education          105\n",
            "currentSmoker        0\n",
            "cigsPerDay          29\n",
            "BPMeds              53\n",
            "prevalentStroke      0\n",
            "prevalentHyp         0\n",
            "diabetes             0\n",
            "totChol             50\n",
            "sysBP                0\n",
            "diaBP                0\n",
            "BMI                 19\n",
            "heartRate            1\n",
            "glucose            388\n",
            "TenYearCHD           0\n",
            "dtype: int64\n"
          ]
        }
      ]
    },
    {
      "cell_type": "code",
      "source": [
        "# Data Cleaning: Handle missing values using KNN Imputer\n",
        "imputer = KNNImputer(n_neighbors=5)\n",
        "framingham_imputed = pd.DataFrame(imputer.fit_transform(framingham), columns=framingham.columns)\n"
      ],
      "metadata": {
        "id": "1VIgVwR16SEy"
      },
      "execution_count": null,
      "outputs": []
    },
    {
      "cell_type": "code",
      "source": [
        "# Verify no missing values remain\n",
        "print('\\nAfter imputation:')\n",
        "print(framingham_imputed.isnull().sum().sum(), 'missing values remain')"
      ],
      "metadata": {
        "colab": {
          "base_uri": "https://localhost:8080/"
        },
        "id": "V7z5pcrW6ZKt",
        "outputId": "acf10567-d21e-42d1-a80a-6d3e22bb682f"
      },
      "execution_count": null,
      "outputs": [
        {
          "output_type": "stream",
          "name": "stdout",
          "text": [
            "\n",
            "After imputation:\n",
            "0 missing values remain\n"
          ]
        }
      ]
    },
    {
      "cell_type": "code",
      "source": [
        "# Define features and target\n",
        "X = framingham_imputed.drop('TenYearCHD', axis=1)\n",
        "y = framingham_imputed['TenYearCHD']"
      ],
      "metadata": {
        "id": "8LNMCfUl6egz"
      },
      "execution_count": null,
      "outputs": []
    },
    {
      "cell_type": "code",
      "source": [
        "# Split dataset\n",
        "X_train, X_test, y_train, y_test = train_test_split(X, y, test_size=0.3, random_state=42, stratify=y)\n"
      ],
      "metadata": {
        "id": "BU6NjXoS6lvw"
      },
      "execution_count": null,
      "outputs": []
    },
    {
      "cell_type": "code",
      "source": [
        "# Scale features\n",
        "scaler = StandardScaler()\n",
        "X_train_scaled = scaler.fit_transform(X_train)\n",
        "X_test_scaled = scaler.transform(X_test)\n"
      ],
      "metadata": {
        "id": "Lx1C2fdf6qjw"
      },
      "execution_count": null,
      "outputs": []
    },
    {
      "cell_type": "code",
      "source": [
        "# Model 1: Logistic Regression\n",
        "log_reg = LogisticRegression(max_iter=500)\n",
        "log_reg.fit(X_train_scaled, y_train)\n",
        "y_pred_lr = log_reg.predict(X_test_scaled)\n",
        "\n",
        "print('\\nLogistic Regression Results:')\n",
        "print('Accuracy:', accuracy_score(y_test, y_pred_lr))\n",
        "print('ROC-AUC:', roc_auc_score(y_test, y_pred_lr))"
      ],
      "metadata": {
        "colab": {
          "base_uri": "https://localhost:8080/"
        },
        "id": "7vd8jxcm6wsy",
        "outputId": "985a3735-0f22-4476-e17e-d8dceec5c1d1"
      },
      "execution_count": null,
      "outputs": [
        {
          "output_type": "stream",
          "name": "stdout",
          "text": [
            "\n",
            "Logistic Regression Results:\n",
            "Accuracy: 0.8466981132075472\n",
            "ROC-AUC: 0.5246005944863551\n"
          ]
        }
      ]
    },
    {
      "cell_type": "code",
      "source": [
        "# Model 2: Random Forest\n",
        "rf = RandomForestClassifier(n_estimators=200, random_state=42)\n",
        "rf.fit(X_train, y_train)\n",
        "y_pred_rf = rf.predict(X_test)\n",
        "\n",
        "print('\\nRandom Forest Results:')\n",
        "print('Accuracy:', accuracy_score(y_test, y_pred_rf))\n",
        "print('ROC-AUC:', roc_auc_score(y_test, y_pred_rf))\n"
      ],
      "metadata": {
        "colab": {
          "base_uri": "https://localhost:8080/"
        },
        "id": "uaMA_IRN63tT",
        "outputId": "20e1f84c-2944-4d73-ba57-42470ed8bf3f"
      },
      "execution_count": null,
      "outputs": [
        {
          "output_type": "stream",
          "name": "stdout",
          "text": [
            "\n",
            "Random Forest Results:\n",
            "Accuracy: 0.8459119496855346\n",
            "ROC-AUC: 0.5177553578202807\n"
          ]
        }
      ]
    },
    {
      "cell_type": "code",
      "source": [
        "# Model 3: Gradient Boosting\n",
        "gb = GradientBoostingClassifier()\n",
        "gb.fit(X_train, y_train)\n",
        "y_pred_gb = gb.predict(X_test)\n",
        "\n",
        "print('\\nGradient Boosting Results:')\n",
        "print('Accuracy:', accuracy_score(y_test, y_pred_gb))\n",
        "print('ROC-AUC:', roc_auc_score(y_test, y_pred_gb))"
      ],
      "metadata": {
        "colab": {
          "base_uri": "https://localhost:8080/"
        },
        "id": "h1sopSdR7Z9S",
        "outputId": "cec34f57-20ab-4311-b481-4f51e3b54c91"
      },
      "execution_count": null,
      "outputs": [
        {
          "output_type": "stream",
          "name": "stdout",
          "text": [
            "\n",
            "Gradient Boosting Results:\n",
            "Accuracy: 0.8459119496855346\n",
            "ROC-AUC: 0.54328273636595\n"
          ]
        }
      ]
    },
    {
      "cell_type": "code",
      "source": [
        "# Model 4: Support Vector Machine\n",
        "svm = SVC(probability=True, kernel='rbf')\n",
        "svm.fit(X_train_scaled, y_train)\n",
        "y_pred_svm = svm.predict(X_test_scaled)\n",
        "\n",
        "print('\\nSVM Results:')\n",
        "print('Accuracy:', accuracy_score(y_test, y_pred_svm))\n",
        "print('ROC-AUC:', roc_auc_score(y_test, y_pred_svm))\n"
      ],
      "metadata": {
        "colab": {
          "base_uri": "https://localhost:8080/"
        },
        "id": "E7tB-ooA7fMT",
        "outputId": "02b63c21-1772-48dc-c3b3-b1334e8a916d"
      },
      "execution_count": null,
      "outputs": [
        {
          "output_type": "stream",
          "name": "stdout",
          "text": [
            "\n",
            "SVM Results:\n",
            "Accuracy: 0.85062893081761\n",
            "ROC-AUC: 0.5120265838163336\n"
          ]
        }
      ]
    },
    {
      "cell_type": "code",
      "source": [
        "# Model 5: Neural Network (MLP)\n",
        "mlp = MLPClassifier(hidden_layer_sizes=(50, 20), max_iter=500, random_state=42)\n",
        "mlp.fit(X_train_scaled, y_train)\n",
        "y_pred_mlp = mlp.predict(X_test_scaled)\n",
        "\n",
        "print('\\nNeural Network Results:')\n",
        "print('Accuracy:', accuracy_score(y_test, y_pred_mlp))\n",
        "print('ROC-AUC:', roc_auc_score(y_test, y_pred_mlp))\n"
      ],
      "metadata": {
        "colab": {
          "base_uri": "https://localhost:8080/"
        },
        "id": "ufqYHlPC7lSM",
        "outputId": "4d1a81c4-901c-4cfe-d9a6-a184f5d5c971"
      },
      "execution_count": null,
      "outputs": [
        {
          "output_type": "stream",
          "name": "stdout",
          "text": [
            "\n",
            "Neural Network Results:\n",
            "Accuracy: 0.7838050314465409\n",
            "ROC-AUC: 0.5534749600234337\n"
          ]
        },
        {
          "output_type": "stream",
          "name": "stderr",
          "text": [
            "/usr/local/lib/python3.12/dist-packages/sklearn/neural_network/_multilayer_perceptron.py:691: ConvergenceWarning: Stochastic Optimizer: Maximum iterations (500) reached and the optimization hasn't converged yet.\n",
            "  warnings.warn(\n"
          ]
        }
      ]
    },
    {
      "cell_type": "code",
      "source": [
        "# Compare all models\n",
        "results = pd.DataFrame({\n",
        "'Model': ['Logistic Regression', 'Random Forest', 'Gradient Boosting', 'SVM', 'Neural Network'],\n",
        "'Accuracy': [accuracy_score(y_test, y_pred_lr), accuracy_score(y_test, y_pred_rf), accuracy_score(y_test, y_pred_gb), accuracy_score(y_test, y_pred_svm), accuracy_score(y_test, y_pred_mlp)],\n",
        "'ROC_AUC': [roc_auc_score(y_test, y_pred_lr), roc_auc_score(y_test, y_pred_rf), roc_auc_score(y_test, y_pred_gb), roc_auc_score(y_test, y_pred_svm), roc_auc_score(y_test, y_pred_mlp)]\n",
        "})\n",
        "\n",
        "print('\\nModel Comparison Summary:')\n",
        "print(results)\n"
      ],
      "metadata": {
        "colab": {
          "base_uri": "https://localhost:8080/"
        },
        "id": "jcz34QDw7uZf",
        "outputId": "9ac46db7-dd91-4e2c-942f-f64b21e7456c"
      },
      "execution_count": null,
      "outputs": [
        {
          "output_type": "stream",
          "name": "stdout",
          "text": [
            "\n",
            "Model Comparison Summary:\n",
            "                 Model  Accuracy   ROC_AUC\n",
            "0  Logistic Regression  0.846698  0.524601\n",
            "1        Random Forest  0.845912  0.517755\n",
            "2    Gradient Boosting  0.845912  0.543283\n",
            "3                  SVM  0.850629  0.512027\n",
            "4       Neural Network  0.783805  0.553475\n"
          ]
        }
      ]
    },
    {
      "cell_type": "code",
      "source": [
        "# Plot ROC curves for comparison\n",
        "plt.figure(figsize=(8, 6))\n",
        "for name, model, X_t in [\n",
        "    ('Logistic Regression', log_reg, X_test_scaled),\n",
        "    ('Random Forest', rf, X_test),\n",
        "    ('Gradient Boosting', gb, X_test),\n",
        "    ('SVM', svm, X_test_scaled),\n",
        "    ('Neural Network', mlp, X_test_scaled)\n",
        "]:\n",
        "    y_prob = model.predict_proba(X_t)[:, 1]\n",
        "    fpr, tpr, _ = roc_curve(y_test, y_prob)\n",
        "    plt.plot(fpr, tpr, label=name)\n",
        "\n",
        "plt.plot([0, 1], [0, 1], 'k--')\n",
        "plt.xlabel('False Positive Rate')\n",
        "plt.ylabel('True Positive Rate')\n",
        "plt.title('ROC Curve Comparison')\n",
        "plt.legend()\n",
        "plt.show()"
      ],
      "metadata": {
        "colab": {
          "base_uri": "https://localhost:8080/",
          "height": 564
        },
        "id": "mxtsyzVv70J7",
        "outputId": "be5bf21f-2b6e-40e4-aa10-61221aba72f4"
      },
      "execution_count": null,
      "outputs": [
        {
          "output_type": "display_data",
          "data": {
            "text/plain": [
              "<Figure size 800x600 with 1 Axes>"
            ],
            "image/png": "[encoded data removed]"
          },
          "metadata": {}
        }
      ]
    },
    {
      "cell_type": "code",
      "source": [
        "# Final summary output\n",
        "print('\\nFinal Evaluation Complete.')"
      ],
      "metadata": {
        "colab": {
          "base_uri": "https://localhost:8080/"
        },
        "id": "2dx6_xyh78E9",
        "outputId": "c4a23fe5-9cc6-4dad-8e8e-b5ffa9d648ef"
      },
      "execution_count": null,
      "outputs": [
        {
          "output_type": "stream",
          "name": "stdout",
          "text": [
            "\n",
            "Final Evaluation Complete.\n"
          ]
        }
      ]
    }
  ]
}